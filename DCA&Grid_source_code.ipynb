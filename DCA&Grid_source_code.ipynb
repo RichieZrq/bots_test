{
 "cells": [
  {
   "cell_type": "code",
   "execution_count": 1,
   "id": "84077e79",
   "metadata": {},
   "outputs": [],
   "source": [
    "class GridTrader:\n",
    "    def __init__(self, initial_balance, grid_size, grid_levels):\n",
    "        self.balance = initial_balance\n",
    "        self.grid_size = grid_size\n",
    "        self.grid_levels = grid_levels\n",
    "        self.current_price = None\n",
    "        self.orders = []\n",
    "\n",
    "    def set_price(self, price):\n",
    "        self.current_price = price\n",
    "\n",
    "    def place_orders(self):\n",
    "        if self.current_price is None:\n",
    "            print(\"Error: Price not set.\")\n",
    "            return\n",
    "\n",
    "        for level in range(1, self.grid_levels + 1):\n",
    "            buy_price = self.current_price - (self.grid_size * level)\n",
    "            sell_price = self.current_price + (self.grid_size * level)\n",
    "            if buy_price > 0:\n",
    "                self.orders.append(('BUY', buy_price))\n",
    "            if sell_price > 0:\n",
    "                self.orders.append(('SELL', sell_price))\n",
    "\n",
    "    def execute_orders(self):\n",
    "        if not self.orders:\n",
    "            print(\"No orders to execute.\")\n",
    "            return\n",
    "\n",
    "        for order in self.orders:\n",
    "            action, price = order\n",
    "            if action == 'BUY':\n",
    "                if self.balance >= price:\n",
    "                    self.balance -= price\n",
    "                    print(f\"Bought at {price}. Balance: {self.balance}\")\n",
    "                else:\n",
    "                    print(f\"Not enough balance to buy at {price}.\")\n",
    "            elif action == 'SELL':\n",
    "                self.balance += price\n",
    "                print(f\"Sold at {price}. Balance: {self.balance}\")\n",
    "\n",
    "        self.orders = []\n"
   ]
  },
  {
   "cell_type": "code",
   "execution_count": 2,
   "id": "bd8d9856",
   "metadata": {},
   "outputs": [],
   "source": [
    "# Example usage:\n",
    "initial_balance = 1000\n",
    "grid_size = 10\n",
    "grid_levels = 3\n",
    "\n",
    "trader = GridTrader(initial_balance, grid_size, grid_levels)"
   ]
  },
  {
   "cell_type": "code",
   "execution_count": 3,
   "id": "b86563bb",
   "metadata": {},
   "outputs": [],
   "source": [
    "# Set the current price\n",
    "trader.set_price(50)"
   ]
  },
  {
   "cell_type": "code",
   "execution_count": 4,
   "id": "78a0569f",
   "metadata": {},
   "outputs": [],
   "source": [
    "# Place orders based on current price\n",
    "trader.place_orders()"
   ]
  },
  {
   "cell_type": "code",
   "execution_count": 5,
   "id": "0002c991",
   "metadata": {},
   "outputs": [
    {
     "name": "stdout",
     "output_type": "stream",
     "text": [
      "Bought at 40. Balance: 960\n",
      "Sold at 60. Balance: 1020\n",
      "Bought at 30. Balance: 990\n",
      "Sold at 70. Balance: 1060\n",
      "Bought at 20. Balance: 1040\n",
      "Sold at 80. Balance: 1120\n"
     ]
    }
   ],
   "source": [
    "# Execute orders\n",
    "trader.execute_orders()"
   ]
  },
  {
   "cell_type": "code",
   "execution_count": 6,
   "id": "c6b57a38",
   "metadata": {},
   "outputs": [],
   "source": [
    "def dca_trading(starting_balance, monthly_investment, num_months, price_history):\n",
    "    balance = starting_balance\n",
    "    shares = 0\n",
    "    total_invested = 0\n",
    "\n",
    "    for month in range(num_months):\n",
    "        investment = monthly_investment\n",
    "        total_invested += investment\n",
    "        price = price_history[month]\n",
    "        shares_bought = investment / price\n",
    "        shares += shares_bought\n",
    "        balance -= investment\n",
    "        print(f\"Month {month + 1}:\")\n",
    "        print(f\"Investment: ${investment:.2f}\")\n",
    "        print(f\"Shares bought: {shares_bought:.2f}\")\n",
    "        print(f\"Total shares: {shares:.2f}\")\n",
    "        print(f\"Remaining balance: ${balance:.2f}\\n\")\n",
    "\n",
    "    final_value = shares * price_history[-1]\n",
    "    profit_loss = final_value - total_invested\n",
    "\n",
    "    print(\"DCA Trading Results:\")\n",
    "    print(f\"Starting balance: ${starting_balance:.2f}\")\n",
    "    print(f\"Total invested: ${total_invested:.2f}\")\n",
    "    print(f\"Final value: ${final_value:.2f}\")\n",
    "    print(f\"Profit/Loss: ${profit_loss:.2f}\")\n"
   ]
  },
  {
   "cell_type": "code",
   "execution_count": 7,
   "id": "9485bfdc",
   "metadata": {},
   "outputs": [],
   "source": [
    "# Example usage:\n",
    "starting_balance = 1000\n",
    "monthly_investment = 100\n",
    "num_months = 12"
   ]
  },
  {
   "cell_type": "code",
   "execution_count": 8,
   "id": "2c6d18f8",
   "metadata": {},
   "outputs": [],
   "source": [
    "# Example price history for 12 months (replace this with actual price data)\n",
    "price_history = [10, 12, 11, 14, 15, 13, 12, 11, 10, 9, 8, 10]"
   ]
  },
  {
   "cell_type": "code",
   "execution_count": 9,
   "id": "2ca2dae4",
   "metadata": {},
   "outputs": [
    {
     "name": "stdout",
     "output_type": "stream",
     "text": [
      "Month 1:\n",
      "Investment: $100.00\n",
      "Shares bought: 10.00\n",
      "Total shares: 10.00\n",
      "Remaining balance: $900.00\n",
      "\n",
      "Month 2:\n",
      "Investment: $100.00\n",
      "Shares bought: 8.33\n",
      "Total shares: 18.33\n",
      "Remaining balance: $800.00\n",
      "\n",
      "Month 3:\n",
      "Investment: $100.00\n",
      "Shares bought: 9.09\n",
      "Total shares: 27.42\n",
      "Remaining balance: $700.00\n",
      "\n",
      "Month 4:\n",
      "Investment: $100.00\n",
      "Shares bought: 7.14\n",
      "Total shares: 34.57\n",
      "Remaining balance: $600.00\n",
      "\n",
      "Month 5:\n",
      "Investment: $100.00\n",
      "Shares bought: 6.67\n",
      "Total shares: 41.23\n",
      "Remaining balance: $500.00\n",
      "\n",
      "Month 6:\n",
      "Investment: $100.00\n",
      "Shares bought: 7.69\n",
      "Total shares: 48.93\n",
      "Remaining balance: $400.00\n",
      "\n",
      "Month 7:\n",
      "Investment: $100.00\n",
      "Shares bought: 8.33\n",
      "Total shares: 57.26\n",
      "Remaining balance: $300.00\n",
      "\n",
      "Month 8:\n",
      "Investment: $100.00\n",
      "Shares bought: 9.09\n",
      "Total shares: 66.35\n",
      "Remaining balance: $200.00\n",
      "\n",
      "Month 9:\n",
      "Investment: $100.00\n",
      "Shares bought: 10.00\n",
      "Total shares: 76.35\n",
      "Remaining balance: $100.00\n",
      "\n",
      "Month 10:\n",
      "Investment: $100.00\n",
      "Shares bought: 11.11\n",
      "Total shares: 87.46\n",
      "Remaining balance: $0.00\n",
      "\n",
      "Month 11:\n",
      "Investment: $100.00\n",
      "Shares bought: 12.50\n",
      "Total shares: 99.96\n",
      "Remaining balance: $-100.00\n",
      "\n",
      "Month 12:\n",
      "Investment: $100.00\n",
      "Shares bought: 10.00\n",
      "Total shares: 109.96\n",
      "Remaining balance: $-200.00\n",
      "\n",
      "DCA Trading Results:\n",
      "Starting balance: $1000.00\n",
      "Total invested: $1200.00\n",
      "Final value: $1099.61\n",
      "Profit/Loss: $-100.39\n"
     ]
    }
   ],
   "source": [
    "dca_trading(starting_balance, monthly_investment, num_months, price_history)"
   ]
  },
  {
   "cell_type": "code",
   "execution_count": null,
   "id": "3b011256",
   "metadata": {},
   "outputs": [],
   "source": []
  }
 ],
 "metadata": {
  "kernelspec": {
   "display_name": "Python 3 (ipykernel)",
   "language": "python",
   "name": "python3"
  },
  "language_info": {
   "codemirror_mode": {
    "name": "ipython",
    "version": 3
   },
   "file_extension": ".py",
   "mimetype": "text/x-python",
   "name": "python",
   "nbconvert_exporter": "python",
   "pygments_lexer": "ipython3",
   "version": "3.11.5"
  }
 },
 "nbformat": 4,
 "nbformat_minor": 5
}
