{
 "cells": [
  {
   "cell_type": "code",
   "execution_count": null,
   "id": "abc7a704-bbf5-4d3d-b542-7a40b7ca8987",
   "metadata": {},
   "outputs": [],
   "source": [
    "# Grid"
   ]
  },
  {
   "cell_type": "code",
   "execution_count": 1,
   "id": "8bdbd617-4759-4718-b04b-d0476c7c28a8",
   "metadata": {},
   "outputs": [
    {
     "name": "stdout",
     "output_type": "stream",
     "text": [
      "Requirement already satisfied: requests in ./anaconda3/lib/python3.11/site-packages (2.31.0)\n",
      "Requirement already satisfied: pandas in ./anaconda3/lib/python3.11/site-packages (2.1.4)\n",
      "Requirement already satisfied: charset-normalizer<4,>=2 in ./anaconda3/lib/python3.11/site-packages (from requests) (2.0.4)\n",
      "Requirement already satisfied: idna<4,>=2.5 in ./anaconda3/lib/python3.11/site-packages (from requests) (3.4)\n",
      "Requirement already satisfied: urllib3<3,>=1.21.1 in ./anaconda3/lib/python3.11/site-packages (from requests) (2.0.7)\n",
      "Requirement already satisfied: certifi>=2017.4.17 in ./anaconda3/lib/python3.11/site-packages (from requests) (2024.2.2)\n",
      "Requirement already satisfied: numpy<2,>=1.23.2 in ./anaconda3/lib/python3.11/site-packages (from pandas) (1.26.4)\n",
      "Requirement already satisfied: python-dateutil>=2.8.2 in ./anaconda3/lib/python3.11/site-packages (from pandas) (2.8.2)\n",
      "Requirement already satisfied: pytz>=2020.1 in ./anaconda3/lib/python3.11/site-packages (from pandas) (2023.3.post1)\n",
      "Requirement already satisfied: tzdata>=2022.1 in ./anaconda3/lib/python3.11/site-packages (from pandas) (2023.3)\n",
      "Requirement already satisfied: six>=1.5 in ./anaconda3/lib/python3.11/site-packages (from python-dateutil>=2.8.2->pandas) (1.16.0)\n",
      "Note: you may need to restart the kernel to use updated packages.\n"
     ]
    }
   ],
   "source": [
    "pip install requests pandas"
   ]
  },
  {
   "cell_type": "code",
   "execution_count": 2,
   "id": "8b82f14a-8814-4280-b3c0-863d5a4aafcf",
   "metadata": {},
   "outputs": [],
   "source": [
    "import requests\n",
    "import time\n",
    "import hmac\n",
    "import hashlib\n",
    "import base64\n",
    "import json\n",
    "from datetime import datetime"
   ]
  },
  {
   "cell_type": "code",
   "execution_count": 3,
   "id": "edb49569-7a1e-4e63-9455-ba12cee0e5ff",
   "metadata": {},
   "outputs": [],
   "source": [
    "# OKX API Credentials\n",
    "api_key = '43069784-de20-4127-bc0c-c72f233b93ac'\n",
    "secret_key = '87AA1870EAA99B8857376D66379DDB31'\n",
    "passphrase = 'Rachel0622!'"
   ]
  },
  {
   "cell_type": "code",
   "execution_count": 4,
   "id": "454840ff-62ac-4a56-9023-1637fe3a5533",
   "metadata": {},
   "outputs": [],
   "source": [
    "# Function to Create the Signature Required by OKX API\n",
    "def generate_signature(timestamp, method, request_path, body, secret_key):\n",
    "    message = timestamp + method + request_path + body\n",
    "    mac = hmac.new(bytes(secret_key, 'utf-8'), bytes(message, 'utf-8'), digestmod=hashlib.sha256)\n",
    "    d = mac.digest()\n",
    "    return base64.b64encode(d).decode('utf-8')"
   ]
  },
  {
   "cell_type": "code",
   "execution_count": 5,
   "id": "69db2e71-f280-4e0c-b4ca-2a223d43a86f",
   "metadata": {},
   "outputs": [],
   "source": [
    "# Function to Fetch the Current Market Price from OKX\n",
    "def fetch_market_price(symbol):\n",
    "    base_url = 'https://www.okx.com'\n",
    "    endpoint = f'/api/v5/market/ticker?instId={symbol}'\n",
    "    url = base_url + endpoint\n",
    "\n",
    "    timestamp = str(time.time())\n",
    "    method = 'GET'\n",
    "    request_path = endpoint\n",
    "    body = ''\n",
    "    signature = generate_signature(timestamp, method, request_path, body, secret_key)\n",
    "\n",
    "    headers = {\n",
    "        'OK-ACCESS-KEY': api_key,\n",
    "        'OK-ACCESS-SIGN': signature,\n",
    "        'OK-ACCESS-TIMESTAMP': timestamp,\n",
    "        'OK-ACCESS-PASSPHRASE': passphrase,\n",
    "        'Content-Type': 'application/json'\n",
    "    }\n",
    "\n",
    "    response = requests.get(url, headers=headers)\n",
    "    data = response.json()\n",
    "    if 'data' in data:\n",
    "        return float(data['data'][0]['last'])\n",
    "    else:\n",
    "        raise Exception(f\"Error fetching data: {data}\")"
   ]
  },
  {
   "cell_type": "code",
   "execution_count": null,
   "id": "2e645e78-e939-4d76-91d8-5e34dca54aec",
   "metadata": {},
   "outputs": [],
   "source": [
    "### FOR BINANCE US API ###\n",
    "\n",
    "# Binance US API Credentials\n",
    "api_key = 'YOUR_API_KEY'\n",
    "secret_key = 'YOUR_SECRET_KEY'\n",
    "\n",
    "# Function to Create the Signature of Binance US API\n",
    "def generate_signature(query_string, secret_key):\n",
    "    return hmac.new(secret_key.encode('utf-8'), query_string.encode('utf-8'), hashlib.sha256).hexdigest()\n",
    "\n",
    "#Function to Fetch the Current Market Price from Binance US\n",
    "def fetch_market_price(symbol):\n",
    "    base_url = 'https://api.binance.us'\n",
    "    endpoint = f'/api/v3/ticker/price?symbol={symbol}'\n",
    "    url = base_url + endpoint\n",
    "\n",
    "    response = requests.get(url)\n",
    "    data = response.json()\n",
    "    if 'price' in data:\n",
    "        return float(data['price'])\n",
    "    else:\n",
    "        raise Exception(f\"Error fetching data: {data}\")"
   ]
  },
  {
   "cell_type": "code",
   "execution_count": 6,
   "id": "5a9c0c4e-bc6c-47c3-a94b-672259994d8b",
   "metadata": {},
   "outputs": [
    {
     "name": "stdout",
     "output_type": "stream",
     "text": [
      "Current price of BTC-USDT: $68521.1\n"
     ]
    }
   ],
   "source": [
    "# Example usage\n",
    "symbol = 'BTC-USDT'\n",
    "try:\n",
    "    current_price = fetch_market_price(symbol)\n",
    "    print(f\"Current price of {symbol}: ${current_price}\")\n",
    "except Exception as e:\n",
    "    print(e)"
   ]
  },
  {
   "cell_type": "code",
   "execution_count": 7,
   "id": "0d00ad33-ff6b-42af-9c7d-2029faa3013d",
   "metadata": {},
   "outputs": [],
   "source": [
    "import random\n",
    "\n",
    "def create_grid(current_price, lower_bound, upper_bound, num_levels):\n",
    "    interval = (upper_bound - lower_bound) / num_levels\n",
    "    buy_orders = []\n",
    "    sell_orders = []\n",
    "\n",
    "    for i in range(num_levels):\n",
    "        buy_price = lower_bound + i * interval\n",
    "        sell_price = upper_bound - i * interval\n",
    "        if buy_price < current_price:\n",
    "            buy_orders.append(buy_price)\n",
    "        if sell_price > current_price:\n",
    "            sell_orders.append(sell_price)\n",
    "\n",
    "    return buy_orders, sell_orders\n",
    "\n",
    "def simulate_trading(buy_orders, sell_orders, initial_balance, initial_coins, price_fluctuations):\n",
    "    balance = initial_balance\n",
    "    coins = initial_coins\n",
    "\n",
    "    for price in price_fluctuations:\n",
    "        # Execute buy orders\n",
    "        for buy_price in buy_orders:\n",
    "            if price <= buy_price and balance >= buy_price:\n",
    "                coins += 1\n",
    "                balance -= buy_price\n",
    "                print(f\"Bought 1 coin at ${buy_price:.2f}\")\n",
    "\n",
    "        # Execute sell orders\n",
    "        for sell_price in sell_orders:\n",
    "            if price >= sell_price and coins > 0:\n",
    "                coins -= 1\n",
    "                balance += sell_price\n",
    "                print(f\"Sold 1 coin at ${sell_price:.2f}\")\n",
    "\n",
    "    final_balance = balance + coins * price_fluctuations[-1]\n",
    "    print(f\"Final balance: ${final_balance:.2f}\")\n",
    "    return final_balance"
   ]
  },
  {
   "cell_type": "code",
   "execution_count": 8,
   "id": "3f8f57bb-5e3c-4629-8a9f-486bb35ad676",
   "metadata": {},
   "outputs": [
    {
     "name": "stdout",
     "output_type": "stream",
     "text": [
      "Current price of BTC-USDT: $68508.1\n",
      "Buy Orders: [30000.0, 31000.0, 32000.0, 33000.0, 34000.0, 35000.0, 36000.0, 37000.0, 38000.0, 39000.0]\n",
      "Sell Orders: []\n",
      "Final balance: $10000.00\n"
     ]
    }
   ],
   "source": [
    "# Example usage\n",
    "symbol = 'BTC-USDT'\n",
    "try:\n",
    "    current_price = fetch_market_price(symbol)\n",
    "    print(f\"Current price of {symbol}: ${current_price}\")\n",
    "    \n",
    "    lower_bound = 30000\n",
    "    upper_bound = 40000\n",
    "    num_levels = 10\n",
    "\n",
    "    buy_orders, sell_orders = create_grid(current_price, lower_bound, upper_bound, num_levels)\n",
    "    print(\"Buy Orders:\", buy_orders)\n",
    "    print(\"Sell Orders:\", sell_orders)\n",
    "\n",
    "    initial_balance = 10000\n",
    "    initial_coins = 0\n",
    "    price_fluctuations = [current_price + random.uniform(-1000, 1000) for _ in range(30)]\n",
    "\n",
    "    simulate_trading(buy_orders, sell_orders, initial_balance, initial_coins, price_fluctuations)\n",
    "except Exception as e:\n",
    "    print(e)"
   ]
  },
  {
   "cell_type": "code",
   "execution_count": null,
   "id": "4da06dd7-3838-436e-b60f-9a27528983ce",
   "metadata": {},
   "outputs": [],
   "source": [
    "# Place Real Orders on OKX\n",
    "\n",
    "#ef place_order(symbol, side, size, price):\n",
    "#    base_url = 'https://www.okx.com'\n",
    "#    endpoint = '/api/v5/trade/order'\n",
    "#    url = base_url + endpoint\n",
    "\n",
    "#   timestamp = str(time.time())\n",
    "#   method = 'POST'\n",
    "#   request_path = endpoint\n",
    "#   body = {\n",
    "#       \"instId\": symbol,\n",
    "#       \"tdMode\": \"cash\",\n",
    "#       \"side\": side,\n",
    "#       \"ordType\": \"limit\",\n",
    "#       \"sz\": str(size),\n",
    "#       \"px\": str(price)\n",
    "#   }\n",
    "#   body_str = json.dumps(body)\n",
    "#   signature = generate_signature(timestamp, method, request_path, body_str, secret_key)\n",
    "\n",
    "#   headers = {\n",
    "#       'OK-ACCESS-KEY': api_key,\n",
    "#       'OK-ACCESS-SIGN': signature,\n",
    "#       'OK-ACCESS-TIMESTAMP': timestamp,\n",
    "#       'OK-ACCESS-PASSPHRASE': passphrase,\n",
    "#       'Content-Type': 'application/json'\n",
    "#   }\n",
    "\n",
    "#   response = requests.post(url, headers=headers, data=body_str)\n",
    "#   data = response.json()\n",
    "#   if 'data' in data:\n",
    "#       return data['data']\n",
    "#   else:\n",
    "#       raise Exception(f\"Error placing order: {data}\")\n",
    "\n",
    "# Example usage\n",
    "\n",
    "#symbol = 'BTC-USDT'\n",
    "#side = 'buy'\n",
    "#size = 0.001  # size in BTC\n",
    "#price = 30000  # limit price\n",
    "#try:\n",
    "#   order = place_order(symbol, side, size, price)\n",
    "#   print(f\"Order placed: {order}\")\n",
    "#except Exception as e:\n",
    "#   print(e)"
   ]
  },
  {
   "cell_type": "code",
   "execution_count": null,
   "id": "5d4c1edf-9574-4a31-97c1-1d44322d4dd1",
   "metadata": {},
   "outputs": [],
   "source": [
    "#DCA Trading"
   ]
  },
  {
   "cell_type": "code",
   "execution_count": 9,
   "id": "8549aacb-882c-42af-a580-471363893aee",
   "metadata": {},
   "outputs": [],
   "source": [
    "# OKX API credentials (Creating Credentials remains the same)\n",
    "api_key = '43069784-de20-4127-bc0c-c72f233b93ac'\n",
    "secret_key = '87AA1870EAA99B8857376D66379DDB31'\n",
    "passphrase = 'Rachel0622!'"
   ]
  },
  {
   "cell_type": "code",
   "execution_count": 10,
   "id": "e136078c-0e03-48dc-9d0c-cf49725eaf4c",
   "metadata": {},
   "outputs": [],
   "source": [
    "# Function to create the signature required by OKX API\n",
    "def generate_signature(timestamp, method, request_path, body, secret_key):\n",
    "    message = timestamp + method + request_path + body\n",
    "    mac = hmac.new(bytes(secret_key, 'utf-8'), bytes(message, 'utf-8'), digestmod=hashlib.sha256)\n",
    "    d = mac.digest()\n",
    "    return base64.b64encode(d).decode('utf-8')"
   ]
  },
  {
   "cell_type": "code",
   "execution_count": 11,
   "id": "a89e6d21-45e9-42aa-b818-9758c0d1751e",
   "metadata": {},
   "outputs": [],
   "source": [
    "# Function to fetch the current market price from OKX\n",
    "def fetch_market_price(symbol):\n",
    "    base_url = 'https://www.okx.com'\n",
    "    endpoint = f'/api/v5/market/ticker?instId={symbol}'\n",
    "    url = base_url + endpoint\n",
    "\n",
    "    timestamp = str(time.time())\n",
    "    method = 'GET'\n",
    "    request_path = endpoint\n",
    "    body = ''\n",
    "    signature = generate_signature(timestamp, method, request_path, body, secret_key)\n",
    "\n",
    "    headers = {\n",
    "        'OK-ACCESS-KEY': api_key,\n",
    "        'OK-ACCESS-SIGN': signature,\n",
    "        'OK-ACCESS-TIMESTAMP': timestamp,\n",
    "        'OK-ACCESS-PASSPHRASE': passphrase,\n",
    "        'Content-Type': 'application/json'\n",
    "    }\n",
    "\n",
    "    response = requests.get(url, headers=headers)\n",
    "    data = response.json()\n",
    "    if 'data' in data:\n",
    "        return float(data['data'][0]['last'])\n",
    "    else:\n",
    "        raise Exception(f\"Error fetching data: {data}\")"
   ]
  },
  {
   "cell_type": "code",
   "execution_count": 12,
   "id": "55f18f2e-a523-4396-865f-a8d96e489b9d",
   "metadata": {},
   "outputs": [
    {
     "name": "stdout",
     "output_type": "stream",
     "text": [
      "Current price of BTC-USDT: $68500.6\n"
     ]
    }
   ],
   "source": [
    "# Example usage\n",
    "symbol = 'BTC-USDT'\n",
    "try:\n",
    "    current_price = fetch_market_price(symbol)\n",
    "    print(f\"Current price of {symbol}: ${current_price}\")\n",
    "except Exception as e:\n",
    "    print(e)"
   ]
  },
  {
   "cell_type": "code",
   "execution_count": 13,
   "id": "df9db467-3bdd-46c6-a1f4-34dbf8a4a90d",
   "metadata": {},
   "outputs": [],
   "source": [
    "# Implement the DCA Trading\n",
    "def place_order(symbol, side, size, price):\n",
    "    base_url = 'https://www.okx.com'\n",
    "    endpoint = '/api/v5/trade/order'\n",
    "    url = base_url + endpoint\n",
    "\n",
    "    timestamp = str(time.time())\n",
    "    method = 'POST'\n",
    "    request_path = endpoint\n",
    "    body = {\n",
    "        \"instId\": symbol,\n",
    "        \"tdMode\": \"cash\",\n",
    "        \"side\": side,\n",
    "        \"ordType\": \"limit\",\n",
    "        \"sz\": str(size),\n",
    "        \"px\": str(price)\n",
    "    }\n",
    "    body_str = json.dumps(body)\n",
    "    signature = generate_signature(timestamp, method, request_path, body_str, secret_key)\n",
    "\n",
    "    headers = {\n",
    "        'OK-ACCESS-KEY': api_key,\n",
    "        'OK-ACCESS-SIGN': signature,\n",
    "        'OK-ACCESS-TIMESTAMP': timestamp,\n",
    "        'OK-ACCESS-PASSPHRASE': passphrase,\n",
    "        'Content-Type': 'application/json'\n",
    "    }\n",
    "\n",
    "    response = requests.post(url, headers=headers, data=body_str)\n",
    "    data = response.json()\n",
    "    if 'data' in data:\n",
    "        return data['data']\n",
    "    else:\n",
    "        raise Exception(f\"Error placing order: {data}\")\n",
    "\n",
    "def dca_investment(symbol, interval, amount, duration):\n",
    "    for _ in range(duration):\n",
    "        current_price = fetch_market_price(symbol)\n",
    "        if current_price:\n",
    "            size = amount / current_price\n",
    "            try:\n",
    "                order = place_order(symbol, 'buy', size, current_price)\n",
    "                print(f\"Placed DCA order: {order}\")\n",
    "            except Exception as e:\n",
    "                print(f\"Error placing order: {e}\")\n",
    "        else:\n",
    "            print(\"Failed to fetch the current price.\")\n",
    "        time.sleep(interval)"
   ]
  },
  {
   "cell_type": "code",
   "execution_count": null,
   "id": "1d823f1b-2392-498b-984c-15393a9f5784",
   "metadata": {},
   "outputs": [
    {
     "name": "stdout",
     "output_type": "stream",
     "text": [
      "Error placing order: Error placing order: {'msg': 'Invalid OK-ACCESS-TIMESTAMP', 'code': '50112'}\n"
     ]
    }
   ],
   "source": [
    "# Example usage\n",
    "symbol = 'BTC-USDT'\n",
    "interval = 86400  # 24 hours in seconds\n",
    "amount = 100  # $100 investment per interval\n",
    "duration = 7  # 7 days\n",
    "\n",
    "dca_investment(symbol, interval, amount, duration)"
   ]
  },
  {
   "cell_type": "code",
   "execution_count": null,
   "id": "1b2df59f-97ff-4235-a7b8-00233ada7eb3",
   "metadata": {},
   "outputs": [],
   "source": [
    "#Scheduling DCA Investment"
   ]
  },
  {
   "cell_type": "code",
   "execution_count": null,
   "id": "cb8b0df4-d31f-453a-9642-f28931e3ffac",
   "metadata": {},
   "outputs": [],
   "source": [
    "#import schedule\n",
    "\n",
    "#def dca_investment_schedule():\n",
    "#   symbol = 'BTC-USDT'\n",
    "#   amount = 100  # $100 investment per interval\n",
    "#   try:\n",
    "#       current_price = fetch_market_price(symbol)\n",
    "#       if current_price:\n",
    "#           size = amount / current_price\n",
    "#           order = place_order(symbol, 'buy', size, current_price)\n",
    "#           print(f\"Placed DCA order: {order}\")\n",
    "#       else:\n",
    "#           print(\"Failed to fetch the current price.\")\n",
    "#   except Exception as e:\n",
    "#       print(f\"Error placing order: {e}\")\n",
    "\n",
    "# Schedule the DCA investment every 24 hours\n",
    "#schedule.every().day.at(\"09:00\").do(dca_investment_schedule)\n",
    "\n",
    "#while True:\n",
    "#   schedule.run_pending()\n",
    "#   time.sleep(1)"
   ]
  }
 ],
 "metadata": {
  "kernelspec": {
   "display_name": "Python 3 (ipykernel)",
   "language": "python",
   "name": "python3"
  },
  "language_info": {
   "codemirror_mode": {
    "name": "ipython",
    "version": 3
   },
   "file_extension": ".py",
   "mimetype": "text/x-python",
   "name": "python",
   "nbconvert_exporter": "python",
   "pygments_lexer": "ipython3",
   "version": "3.11.5"
  }
 },
 "nbformat": 4,
 "nbformat_minor": 5
}
